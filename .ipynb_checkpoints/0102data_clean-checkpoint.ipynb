{
 "cells": [
  {
   "cell_type": "code",
   "execution_count": null,
   "id": "f4e0dc4b-8420-47d6-ad3e-b284c86fa442",
   "metadata": {},
   "outputs": [],
   "source": [
    "import matplotlib.pyplot as plt\n",
    "import numpy as np\n",
    "from statsmodels.tsa.stattools import adfuller\n",
    "from statsmodels.graphics.tsaplots import plot_acf, plot_pacf\n",
    "from statsmodels.tsa.arima.model import ARIMA\n",
    "import pandas as pd"
   ]
  },
  {
   "cell_type": "code",
   "execution_count": null,
   "id": "a4b123bc-ef25-4d08-80df-bb3847fa7755",
   "metadata": {},
   "outputs": [],
   "source": [
    "weather = pd.read_csv('weather.csv', parse_dates=[0], dayfirst=True)\n",
    "weather = weather.set_index('Date')\n",
    "weather.head(5)"
   ]
  },
  {
   "cell_type": "code",
   "execution_count": null,
   "id": "dfcd95a3-f2fd-446d-9a0b-5ba6e3ff415f",
   "metadata": {},
   "outputs": [],
   "source": [
    "climate = pd.read_csv('Climate_2012to2022.csv', parse_dates=[0], dayfirst=True)\n",
    "climate.rename(columns = {'dateV':'Date'}, inplace = True)\n",
    "climate = climate.set_index('Date')\n",
    "climate.head(5)"
   ]
  },
  {
   "cell_type": "code",
   "execution_count": null,
   "id": "47b3d37f-302c-415c-b655-14496fa6081e",
   "metadata": {},
   "outputs": [],
   "source": [
    "weather_and_climate = pd.merge(weather, climate, left_index=True, right_index=True, how='outer')\n",
    "weather_and_climate.tail(5)\n",
    "weather_and_climate = weather_and_climate.drop(weather_and_climate.columns[[0,1,2,3,4,5,20]], axis=1)\n",
    "weather_and_climate = weather_and_climate[3:]\n",
    "weather_and_climate = weather_and_climate.resample('W-SAT', closed='right').mean()\n",
    "weather_and_climate.info()"
   ]
  },
  {
   "cell_type": "code",
   "execution_count": null,
   "id": "a0d3689d-4a5f-4476-8496-da36052ee4b7",
   "metadata": {},
   "outputs": [],
   "source": [
    "from epiweeks import Week, Year\n",
    "from datetime import date\n",
    "def create_epiweek(date):\n",
    "    return Week.fromdate(date)\n",
    "weather_and_climate['epiweekEndDate'] = weather_and_climate.index.date\n",
    "weather_and_climate['Epiweek'] = weather_and_climate['epiweekEndDate'].apply(create_epiweek)"
   ]
  },
  {
   "cell_type": "code",
   "execution_count": null,
   "id": "3a442aea-e076-428d-bf88-b9d161aa5d83",
   "metadata": {},
   "outputs": [],
   "source": [
    "weather_and_climate = weather_and_climate.set_index('Epiweek')\n",
    "weather_and_climate.to_csv(\"weather_and_climate.csv\")"
   ]
  },
  {
   "cell_type": "code",
   "execution_count": null,
   "id": "7c514895-7e94-45d7-9625-5eb178c694b6",
   "metadata": {},
   "outputs": [],
   "source": [
    "weather_and_climate.info()\n",
    "start_week = Week(2009,1)\n",
    "end_week = Week(2009,52)\n",
    "MaxT = weather_and_climate['MaxT'].dropna().loc[start_week:end_week]\n",
    "#ts = str(weather_climate_ED['Epiweek'].dropna().loc[start_date:endl_date])\n",
    "plt.plot(MaxT)"
   ]
  },
  {
   "cell_type": "code",
   "execution_count": null,
   "id": "2701bdde-5a59-42e4-a76b-c34ea2e8e446",
   "metadata": {},
   "outputs": [],
   "source": [
    "ED = pd.read_csv('EDbySBODcat.csv', parse_dates=[0], dayfirst=True)\n",
    "ED = ED.dropna()\n",
    "ED.rename(columns = {'date_adm':'Date'}, inplace = True)\n",
    "ED.head(5)"
   ]
  },
  {
   "cell_type": "code",
   "execution_count": null,
   "id": "197b8e3e-062b-448f-ad5b-ca91343712c0",
   "metadata": {},
   "outputs": [],
   "source": [
    "EDs = dict(tuple(ED.groupby('SBoDcate')))\n",
    "ED_list = list(EDs.keys())\n",
    "for category in ED_list:\n",
    "    EDs[category] = EDs[category].set_index('Date')\n",
    "    EDs[category].rename(columns = {'count': 'SBoD-'+category}, inplace=True)\n",
    "    EDs[category].drop(columns = ['SBoDcate'], inplace=True)\n",
    "merged_ED = pd.concat([EDs[x] for x in ED_list], axis=1)\n",
    "merged_ED.to_csv('merged_ED.csv')"
   ]
  },
  {
   "cell_type": "code",
   "execution_count": null,
   "id": "1cfb3fca-7704-4335-acf8-69e7fd09d56d",
   "metadata": {},
   "outputs": [],
   "source": [
    "weather_climate_ED = pd.merge(weather_and_climate, merged_ED, left_index=True, right_index=True, how='outer')\n",
    "weather_climate_ED.tail(5)"
   ]
  },
  {
   "cell_type": "code",
   "execution_count": null,
   "id": "5b8ac016-7b7c-4771-9ba8-5ac267aca8d1",
   "metadata": {},
   "outputs": [],
   "source": [
    "weather_climate_ED[\"Year\"] = weather_climate_ED.index.year\n",
    "weather_climate_ED[\"Month\"] = weather_climate_ED.index.month\n",
    "weather_climate_ED[\"Day\"] = weather_climate_ED.index.day\n",
    "weather_climate_ED[\"DOW\"] = weather_climate_ED.index.dayofweek+1\n",
    "def dow_adjust(dow):\n",
    "    if dow == 7:\n",
    "        return 0\n",
    "    else:\n",
    "        return dow\n",
    "weather_climate_ED[\"DOW\"] = weather_climate_ED[\"DOW\"].apply(dow_adjust)\n",
    "dow_map = {0:'Sunday', 1:'Monday', 2:'Tuesday', 3:'Wednesday', 4:'Thursday', 5:'Friday', 6:'Saturday'}\n",
    "weather_climate_ED['DOW.Name'] = weather_climate_ED['DOW'].map(dow_map)"
   ]
  },
  {
   "cell_type": "code",
   "execution_count": null,
   "id": "5e771e38-c40a-432d-930b-ef605b21fc42",
   "metadata": {},
   "outputs": [],
   "source": [
    "from epiweeks import Week, Year\n",
    "from datetime import date\n",
    "def create_epiweek(date):\n",
    "    return Week.fromdate(date)\n",
    "weather_climate_ED['Date'] = weather_climate_ED.index.date\n",
    "weather_climate_ED['Epiweek'] = weather_climate_ED['Date'].apply(create_epiweek)\n",
    "weather_climate_ED.to_csv('weather_climate_ED.csv')\n",
    "weather_climate_ED.info()"
   ]
  },
  {
   "cell_type": "code",
   "execution_count": null,
   "id": "814ba84c-4b60-4d8c-b011-5bb7a2092736",
   "metadata": {},
   "outputs": [],
   "source": []
  },
  {
   "cell_type": "code",
   "execution_count": null,
   "id": "6926f722-39d5-4a18-a586-8fd47b0d4761",
   "metadata": {},
   "outputs": [],
   "source": [
    "epiweek_list = weather_climate_ED['Epiweek'].unique()\n",
    "epiweek_data = pd.DataFrame(index = epiweek_list)\n",
    "epiweek_data.info()\n",
    "epiweek_data['MaxT'] = "
   ]
  },
  {
   "cell_type": "code",
   "execution_count": null,
   "id": "26d4ad2f-b923-4b98-99de-d5b042f65bd1",
   "metadata": {},
   "outputs": [],
   "source": [
    "exp_col = ['SBoD-Chronic respiratory disease', 'SBoD-Respiratory Infection']\n",
    "start_date = '2017-01-01'\n",
    "end_date = '2017-12-31'\n",
    "chronic_resp = weather_climate_ED[exp_col[0]].dropna().loc[start_date:end_date]\n",
    "ts = str(weather_climate_ED['Epiweek'].dropna().loc[start_date:end_date])\n",
    "plt.plot(ts, chronic_resp)\n",
    "chronic_resp.info()"
   ]
  },
  {
   "cell_type": "code",
   "execution_count": null,
   "id": "14158863-1203-4ff2-8e53-596d40c39a1c",
   "metadata": {
    "jupyter": {
     "source_hidden": true
    }
   },
   "outputs": [],
   "source": [
    "mu = np.mean(chronic_resp)\n",
    "sigma = np.std(chronic_resp)\n",
    "chronic_resp = (chronic_resp - mu) / sigma"
   ]
  },
  {
   "cell_type": "code",
   "execution_count": null,
   "id": "30b64f8f-14ae-4a23-97d0-8bbd544c056b",
   "metadata": {},
   "outputs": [],
   "source": [
    "def perform_adf_test(series):\n",
    "    result = adfuller(series)\n",
    "    print('ADF Statistic: %f' % result[0])\n",
    "    print('p-value: %f' % result[1])"
   ]
  },
  {
   "cell_type": "code",
   "execution_count": null,
   "id": "ab138c7d-54b3-47ad-84e8-9003c63d5768",
   "metadata": {},
   "outputs": [],
   "source": [
    "perform_adf_test(chronic_resp)"
   ]
  },
  {
   "cell_type": "code",
   "execution_count": null,
   "id": "ff00b1b3-e823-4641-9c14-e097658ff292",
   "metadata": {},
   "outputs": [],
   "source": [
    "plot_pacf(chronic_resp, lags=14, method='ols')\n",
    "plt.show()"
   ]
  },
  {
   "cell_type": "code",
   "execution_count": null,
   "id": "4497f1ae-402c-4453-ac31-1eea2e89d2a3",
   "metadata": {},
   "outputs": [],
   "source": [
    "plot_acf(chronic_resp)\n",
    "plt.show()"
   ]
  },
  {
   "cell_type": "code",
   "execution_count": null,
   "id": "76d35a5f-a774-4838-a8af-467f84975d60",
   "metadata": {},
   "outputs": [],
   "source": [
    "model = ARIMA(chronic_resp, order=(1,0,4)).fit()\n",
    "print(model.params)"
   ]
  },
  {
   "cell_type": "code",
   "execution_count": null,
   "id": "f013e015-dd38-4d7d-a46f-dcaa72d0a43e",
   "metadata": {},
   "outputs": [],
   "source": [
    "prediction_info = model.forecast(3)\n",
    "print(prediction_info)"
   ]
  },
  {
   "cell_type": "code",
   "execution_count": null,
   "id": "92c6b342-19a9-45e5-bcb4-f95a7764a3b2",
   "metadata": {},
   "outputs": [],
   "source": [
    "plt.plot(chronic_resp.tail(30))\n",
    "plt.plot(prediction_info)"
   ]
  },
  {
   "cell_type": "code",
   "execution_count": null,
   "id": "a010d4e1-4be1-4059-a43b-c230f98d3a90",
   "metadata": {},
   "outputs": [],
   "source": []
  }
 ],
 "metadata": {
  "kernelspec": {
   "display_name": "Python 3 (ipykernel)",
   "language": "python",
   "name": "python3"
  },
  "language_info": {
   "codemirror_mode": {
    "name": "ipython",
    "version": 3
   },
   "file_extension": ".py",
   "mimetype": "text/x-python",
   "name": "python",
   "nbconvert_exporter": "python",
   "pygments_lexer": "ipython3",
   "version": "3.11.4"
  }
 },
 "nbformat": 4,
 "nbformat_minor": 5
}
